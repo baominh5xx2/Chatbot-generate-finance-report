{
 "cells": [
  {
   "cell_type": "code",
   "execution_count": null,
   "metadata": {},
   "outputs": [
    {
     "name": "stdout",
     "output_type": "stream",
     "text": [
      "✅ Pinecone Index đã sẵn sàng!\n",
      "{'dimension': 384,\n",
      " 'index_fullness': 0.0,\n",
      " 'metric': 'cosine',\n",
      " 'namespaces': {},\n",
      " 'total_vector_count': 0,\n",
      " 'vector_type': 'dense'}\n"
     ]
    }
   ],
   "source": [
    "import google.generativeai as genai\n",
    "from pinecone import Pinecone, ServerlessSpec\n",
    "import os\n",
    "# API Keys\n",
    "GOOGLE_API_KEY = os.getenv(\"GOOGLE_API_KEY\")\n",
    "PINECONE_API_KEY = os.getenv(\"PINECONE_API_KEY\")\n",
    "PINECONE_ENV = os.getenv(\"PINECONE_ENV\")\n",
    "\n",
    "# Cấu hình Google Gemini API\n",
    "genai.configure(api_key=GOOGLE_API_KEY)\n",
    "\n",
    "# Khởi tạo Pinecone client mới\n",
    "pc = Pinecone(api_key=PINECONE_API_KEY)\n",
    "\n",
    "# Kiểm tra xem index đã tồn tại chưa\n",
    "index_name = \"chatbotfinance\"\n",
    "if index_name not in pc.list_indexes().names():\n",
    "    pc.create_index(\n",
    "        name=index_name,\n",
    "        dimension=384,  # Kích thước vector của \"all-MiniLM-L6-v2\" là 384\n",
    "        metric=\"cosine\"\n",
    "    )\n",
    "\n",
    "# Kết nối đến index\n",
    "index = pc.Index(index_name)\n",
    "\n",
    "# Kiểm tra thông tin index\n",
    "print(\"✅ Pinecone Index đã sẵn sàng!\")\n",
    "print(index.describe_index_stats())\n",
    "\n"
   ]
  },
  {
   "cell_type": "code",
   "execution_count": 22,
   "metadata": {},
   "outputs": [
    {
     "name": "stdout",
     "output_type": "stream",
     "text": [
      "  Unnamed: 0 Unnamed: 1         Unnamed: 2 Unnamed: 3 Unnamed: 4  \\\n",
      "0          1        ACB                ACB       HOSE  Ngân hàng   \n",
      "1          2        BCM        Becamex IDC       HOSE  Tài chính   \n",
      "2          3        BID               BIDV       HOSE  Ngân hàng   \n",
      "3          4        BVH  Tập đoàn Bảo Việt       HOSE  Tài chính   \n",
      "4          5        CTG         VietinBank       HOSE  Ngân hàng   \n",
      "\n",
      "     Unnamed: 5         Unnamed: 6         Unnamed: 7 CÂN ĐỐI KẾ TOÁN  \\\n",
      "0     Ngân hàng          Ngân hàng          Ngân hàng               5   \n",
      "1  Bất động sản       Bất động sản       Bất động sản               5   \n",
      "2     Ngân hàng          Ngân hàng          Ngân hàng               5   \n",
      "3      Bảo hiểm  Bảo hiểm nhân thọ  Bảo hiểm nhân thọ               5   \n",
      "4     Ngân hàng          Ngân hàng          Ngân hàng               5   \n",
      "\n",
      "  Unnamed: 9  ...    Unnamed: 158          Unnamed: 159        Unnamed: 160  \\\n",
      "0       2022  ...             NaN                   NaN                 NaN   \n",
      "1       2022  ...  194,442,752.00  5,341,905,292,230.00  573,310,732,794.00   \n",
      "2       2022  ...             NaN                   NaN                 NaN   \n",
      "3       2022  ...             NaN                   NaN                 NaN   \n",
      "4       2022  ...             NaN                   NaN                 NaN   \n",
      "\n",
      "         Unnamed: 161        Unnamed: 162          Unnamed: 163  \\\n",
      "0                 NaN                 NaN                   NaN   \n",
      "1  865,990,973,170.00  189,713,347,046.00  3,386,322,904,665.00   \n",
      "2                 NaN                 NaN                   NaN   \n",
      "3                 NaN                 NaN                   NaN   \n",
      "4                 NaN                 NaN                   NaN   \n",
      "\n",
      "         Unnamed: 164 BÁO CÁO TÀI CHÍNH KẾ HOẠCH           Unnamed: 166  \\\n",
      "0                 NaN                       0.00  20,058,000,000,000.00   \n",
      "1  326,567,334,555.00       9,460,000,000,000.00   2,628,000,000,000.00   \n",
      "2                 NaN                       0.00  26,460,350,000,000.00   \n",
      "3                 NaN       1,580,000,000,000.00   1,375,000,000,000.00   \n",
      "4                 NaN                        NaN                    NaN   \n",
      "\n",
      "            Unnamed: 167  \n",
      "0  16,046,400,000,000.00  \n",
      "1   2,263,000,000,000.00  \n",
      "2  21,168,280,000,000.00  \n",
      "3   1,100,000,000,000.00  \n",
      "4                    NaN  \n",
      "\n",
      "[5 rows x 168 columns]\n"
     ]
    }
   ],
   "source": [
    "import pandas as pd\n",
    "\n",
    "csv_path = \"2022-Vietnam1.csv\"\n",
    "df = pd.read_csv(csv_path, encoding=\"utf-8-sig\")\n",
    "\n",
    "# ✅ XỬ LÝ DỮ LIỆU: Xóa cột trống, đặt lại tiêu đề\n",
    "column_headers = df.iloc[0].tolist()  # Lấy tiêu đề từ hàng đầu tiên\n",
    "df_cleaned = df.iloc[1:].reset_index(drop=True)  # Xóa hàng đầu tiên khỏi dữ liệu chính\n",
    "print(df_cleaned.head())\n"
   ]
  },
  {
   "cell_type": "code",
   "execution_count": 23,
   "metadata": {},
   "outputs": [
    {
     "name": "stdout",
     "output_type": "stream",
     "text": [
      "✅ Đang chạy trên: CUDA\n"
     ]
    }
   ],
   "source": [
    "import torch\n",
    "from sentence_transformers import SentenceTransformer\n",
    "device = \"cuda\" if torch.cuda.is_available() else \"cpu\"\n",
    "print(f\"✅ Đang chạy trên: {device.upper()}\")\n",
    "\n",
    "# ✅ CẤU HÌNH BERT (Chạy trên GPU nếu có)\n",
    "bert_model = SentenceTransformer(\"sentence-transformers/all-MiniLM-L6-v2\", device=device)"
   ]
  },
  {
   "cell_type": "code",
   "execution_count": 24,
   "metadata": {},
   "outputs": [],
   "source": [
    "def get_bert_embedding(text, model, device=\"cuda\"):\n",
    "    embedding = model.encode(text, convert_to_tensor=True, device=device)\n",
    "    return embedding.tolist()\n"
   ]
  },
  {
   "cell_type": "code",
   "execution_count": 25,
   "metadata": {},
   "outputs": [
    {
     "name": "stderr",
     "output_type": "stream",
     "text": [
      " 34%|███▎      | 565/1675 [21:08<41:32,  2.25s/it]   \n"
     ]
    },
    {
     "ename": "KeyboardInterrupt",
     "evalue": "",
     "output_type": "error",
     "traceback": [
      "\u001b[0;31m---------------------------------------------------------------------------\u001b[0m",
      "\u001b[0;31mKeyboardInterrupt\u001b[0m                         Traceback (most recent call last)",
      "Cell \u001b[0;32mIn[25], line 41\u001b[0m\n\u001b[1;32m     38\u001b[0m                 \u001b[38;5;28mprint\u001b[39m(\u001b[38;5;124mf\u001b[39m\u001b[38;5;124m\"\u001b[39m\u001b[38;5;124m⚠️ Lỗi khi upsert vào Pinecone: \u001b[39m\u001b[38;5;132;01m{\u001b[39;00m\u001b[38;5;28mstr\u001b[39m(e)\u001b[38;5;132;01m}\u001b[39;00m\u001b[38;5;124m\"\u001b[39m)\n\u001b[1;32m     39\u001b[0m                 \u001b[38;5;28;01mcontinue\u001b[39;00m\n\u001b[0;32m---> 41\u001b[0m         time\u001b[38;5;241m.\u001b[39msleep(\u001b[38;5;241m1\u001b[39m)\n\u001b[1;32m     43\u001b[0m \u001b[38;5;28mprint\u001b[39m(\u001b[38;5;124mf\u001b[39m\u001b[38;5;124m\"\u001b[39m\u001b[38;5;124m✅ Đã thêm \u001b[39m\u001b[38;5;132;01m{\u001b[39;00mtotal_rows\u001b[38;5;132;01m}\u001b[39;00m\u001b[38;5;124m vector embeddings vào Pinecone thành công!\u001b[39m\u001b[38;5;124m\"\u001b[39m)\n\u001b[1;32m     44\u001b[0m \u001b[38;5;28mprint\u001b[39m(\u001b[38;5;124m\"\u001b[39m\u001b[38;5;124m✅ Dữ liệu đã được lưu vào:\u001b[39m\u001b[38;5;124m\"\u001b[39m, output_file)\n",
      "\u001b[0;31mKeyboardInterrupt\u001b[0m: "
     ]
    }
   ],
   "source": [
    "from tqdm import tqdm\n",
    "import time\n",
    "# ✅ CHIA NHỎ DỮ LIỆU & TẠO EMBEDDINGS\n",
    "batch_size = 1  # Số dòng gửi mỗi lần\n",
    "total_rows = len(df_cleaned)\n",
    "output_file = \"embeddings_data.txt\"\n",
    "\n",
    "with open(output_file, \"w\", encoding=\"utf-8\") as f:\n",
    "    for i in tqdm(range(0, total_rows, batch_size)):\n",
    "        batch_vectors = []\n",
    "        batch = df_cleaned.iloc[i:i+batch_size]\n",
    "\n",
    "        for idx, row in batch.iterrows():\n",
    "            # 🚀 Gộp dữ liệu đúng format: \"Tên cột: Giá trị\"\n",
    "            text = \" | \".join([f\"{col_name}: {row.iloc[col_index]}\" \n",
    "                               for col_index, col_name in enumerate(column_headers)])\n",
    "            text = text.replace(\"#####\", \"MISSING_DATA\")\n",
    "\n",
    "            try:\n",
    "                # 🚀 Tạo embedding từ BERT\n",
    "                embedding = get_bert_embedding(text, bert_model, device)\n",
    "\n",
    "                # 🚀 Lưu vào danh sách với metadata\n",
    "                batch_vectors.append((str(idx), embedding, {\"data\": text}))\n",
    "\n",
    "                # ✅ Ghi vào file txt\n",
    "                f.write(f\"ID: {idx} | Text: {text} | Embedding: {embedding}\\n\")\n",
    "\n",
    "            except Exception as e:\n",
    "                print(f\"⚠️ Lỗi xử lý dòng {idx}: {str(e)}\")\n",
    "                continue\n",
    "\n",
    "        # ✅ Gửi batch vào Pinecone\n",
    "        if batch_vectors:\n",
    "            try:\n",
    "                index.upsert(vectors=batch_vectors)\n",
    "            except Exception as e:\n",
    "                print(f\"⚠️ Lỗi khi upsert vào Pinecone: {str(e)}\")\n",
    "                continue\n",
    "\n",
    "        time.sleep(1)\n",
    "\n",
    "print(f\"✅ Đã thêm {total_rows} vector embeddings vào Pinecone thành công!\")\n",
    "print(\"✅ Dữ liệu đã được lưu vào:\", output_file)\n",
    "print(index.describe_index_stats())"
   ]
  },
  {
   "cell_type": "code",
   "execution_count": null,
   "metadata": {},
   "outputs": [],
   "source": [
    "index.upsert(vectors)\n",
    "print(f\"✅ Đã thêm {len(vectors)} vector embeddings vào Pinecone thành công!\")\n",
    "print(index.describe_index_stats())"
   ]
  }
 ],
 "metadata": {
  "kernelspec": {
   "display_name": "tensor",
   "language": "python",
   "name": "python3"
  },
  "language_info": {
   "codemirror_mode": {
    "name": "ipython",
    "version": 3
   },
   "file_extension": ".py",
   "mimetype": "text/x-python",
   "name": "python",
   "nbconvert_exporter": "python",
   "pygments_lexer": "ipython3",
   "version": "3.11.11"
  }
 },
 "nbformat": 4,
 "nbformat_minor": 2
}
